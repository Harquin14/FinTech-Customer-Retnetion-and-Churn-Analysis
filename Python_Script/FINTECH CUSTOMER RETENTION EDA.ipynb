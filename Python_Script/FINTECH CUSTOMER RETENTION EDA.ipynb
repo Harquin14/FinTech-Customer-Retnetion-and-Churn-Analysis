{
 "cells": [
  {
   "cell_type": "markdown",
   "id": "bc1441e6-cd1a-408e-ab91-899089c1fbdd",
   "metadata": {},
   "source": [
    "# DATA CLEANING & EDA FOR FINTECH CUSTOMER RETENTION \n"
   ]
  },
  {
   "cell_type": "markdown",
   "id": "f08d8f4c-6de3-4fbc-9255-e62f6c6390dc",
   "metadata": {},
   "source": [
    "# importing the needed libaries"
   ]
  },
  {
   "cell_type": "code",
   "execution_count": 1,
   "id": "5f0c8473-4a51-45c4-8c17-348697ef29ad",
   "metadata": {},
   "outputs": [],
   "source": [
    "import numpy as np\n",
    "import pandas as pd\n",
    "import matplotlib.pyplot as plt \n",
    "%matplotlib inline"
   ]
  },
  {
   "cell_type": "markdown",
   "id": "a5313d22-4cfb-46fa-9a13-d8351a82ed3b",
   "metadata": {},
   "source": [
    "# importing the datasst"
   ]
  },
  {
   "cell_type": "code",
   "execution_count": 2,
   "id": "0756a09a-7785-44de-9832-8ca4691458ce",
   "metadata": {},
   "outputs": [
    {
     "data": {
      "text/html": [
       "<div>\n",
       "<style scoped>\n",
       "    .dataframe tbody tr th:only-of-type {\n",
       "        vertical-align: middle;\n",
       "    }\n",
       "\n",
       "    .dataframe tbody tr th {\n",
       "        vertical-align: top;\n",
       "    }\n",
       "\n",
       "    .dataframe thead th {\n",
       "        text-align: right;\n",
       "    }\n",
       "</style>\n",
       "<table border=\"1\" class=\"dataframe\">\n",
       "  <thead>\n",
       "    <tr style=\"text-align: right;\">\n",
       "      <th></th>\n",
       "      <th>user_id</th>\n",
       "      <th>login_date</th>\n",
       "    </tr>\n",
       "  </thead>\n",
       "  <tbody>\n",
       "    <tr>\n",
       "      <th>0</th>\n",
       "      <td>U100622</td>\n",
       "      <td>2025-07-15</td>\n",
       "    </tr>\n",
       "    <tr>\n",
       "      <th>1</th>\n",
       "      <td>U100241</td>\n",
       "      <td>2025-07-02</td>\n",
       "    </tr>\n",
       "    <tr>\n",
       "      <th>2</th>\n",
       "      <td>U101767</td>\n",
       "      <td>2025-05-07</td>\n",
       "    </tr>\n",
       "    <tr>\n",
       "      <th>3</th>\n",
       "      <td>U100491</td>\n",
       "      <td>2025-06-09</td>\n",
       "    </tr>\n",
       "    <tr>\n",
       "      <th>4</th>\n",
       "      <td>U101275</td>\n",
       "      <td>2025-05-09</td>\n",
       "    </tr>\n",
       "    <tr>\n",
       "      <th>...</th>\n",
       "      <td>...</td>\n",
       "      <td>...</td>\n",
       "    </tr>\n",
       "    <tr>\n",
       "      <th>29995</th>\n",
       "      <td>U101429</td>\n",
       "      <td>2025-07-15</td>\n",
       "    </tr>\n",
       "    <tr>\n",
       "      <th>29996</th>\n",
       "      <td>U100473</td>\n",
       "      <td>2025-05-07</td>\n",
       "    </tr>\n",
       "    <tr>\n",
       "      <th>29997</th>\n",
       "      <td>U102427</td>\n",
       "      <td>2025-06-13</td>\n",
       "    </tr>\n",
       "    <tr>\n",
       "      <th>29998</th>\n",
       "      <td>U100673</td>\n",
       "      <td>2025-06-24</td>\n",
       "    </tr>\n",
       "    <tr>\n",
       "      <th>29999</th>\n",
       "      <td>U100666</td>\n",
       "      <td>2025-05-19</td>\n",
       "    </tr>\n",
       "  </tbody>\n",
       "</table>\n",
       "<p>30000 rows × 2 columns</p>\n",
       "</div>"
      ],
      "text/plain": [
       "       user_id  login_date\n",
       "0      U100622  2025-07-15\n",
       "1      U100241  2025-07-02\n",
       "2      U101767  2025-05-07\n",
       "3      U100491  2025-06-09\n",
       "4      U101275  2025-05-09\n",
       "...        ...         ...\n",
       "29995  U101429  2025-07-15\n",
       "29996  U100473  2025-05-07\n",
       "29997  U102427  2025-06-13\n",
       "29998  U100673  2025-06-24\n",
       "29999  U100666  2025-05-19\n",
       "\n",
       "[30000 rows x 2 columns]"
      ]
     },
     "execution_count": 2,
     "metadata": {},
     "output_type": "execute_result"
    }
   ],
   "source": [
    "login = pd.read_csv(r\"F:\\DATASET\\FINTECH CUSTOMER RETENTION\\DATASET\\login_activity.csv\")\n",
    "login"
   ]
  },
  {
   "cell_type": "code",
   "execution_count": 4,
   "id": "4cf679b1-6e03-4fd2-bb17-9dac10c3326c",
   "metadata": {},
   "outputs": [
    {
     "name": "stdout",
     "output_type": "stream",
     "text": [
      "<class 'pandas.core.frame.DataFrame'>\n",
      "RangeIndex: 30000 entries, 0 to 29999\n",
      "Data columns (total 2 columns):\n",
      " #   Column      Non-Null Count  Dtype \n",
      "---  ------      --------------  ----- \n",
      " 0   user_id     30000 non-null  object\n",
      " 1   login_date  30000 non-null  object\n",
      "dtypes: object(2)\n",
      "memory usage: 468.9+ KB\n"
     ]
    }
   ],
   "source": [
    "login.info()"
   ]
  },
  {
   "cell_type": "code",
   "execution_count": null,
   "id": "f3240fe1-f425-41d3-9135-313a16184031",
   "metadata": {},
   "outputs": [],
   "source": []
  },
  {
   "cell_type": "code",
   "execution_count": 5,
   "id": "eca7c509-002a-4622-8aec-10992f85f594",
   "metadata": {},
   "outputs": [],
   "source": [
    "login['login_date'] = pd.to_datetime(login['login_date'])"
   ]
  },
  {
   "cell_type": "code",
   "execution_count": null,
   "id": "f48c1e1c-eb27-4029-a48c-8a90b6fee263",
   "metadata": {},
   "outputs": [],
   "source": []
  },
  {
   "cell_type": "code",
   "execution_count": 6,
   "id": "535c7078-334b-4ddf-bc71-f9edeb4faf17",
   "metadata": {},
   "outputs": [
    {
     "data": {
      "text/plain": [
       "user_id       0\n",
       "login_date    0\n",
       "dtype: int64"
      ]
     },
     "execution_count": 6,
     "metadata": {},
     "output_type": "execute_result"
    }
   ],
   "source": [
    "login.isnull().sum()"
   ]
  },
  {
   "cell_type": "code",
   "execution_count": 7,
   "id": "9be0de99-a1e0-4555-9103-ec5434b567ea",
   "metadata": {},
   "outputs": [
    {
     "data": {
      "text/html": [
       "<div>\n",
       "<style scoped>\n",
       "    .dataframe tbody tr th:only-of-type {\n",
       "        vertical-align: middle;\n",
       "    }\n",
       "\n",
       "    .dataframe tbody tr th {\n",
       "        vertical-align: top;\n",
       "    }\n",
       "\n",
       "    .dataframe thead th {\n",
       "        text-align: right;\n",
       "    }\n",
       "</style>\n",
       "<table border=\"1\" class=\"dataframe\">\n",
       "  <thead>\n",
       "    <tr style=\"text-align: right;\">\n",
       "      <th></th>\n",
       "      <th>user_id</th>\n",
       "      <th>login_date</th>\n",
       "    </tr>\n",
       "  </thead>\n",
       "  <tbody>\n",
       "    <tr>\n",
       "      <th>36</th>\n",
       "      <td>U101005</td>\n",
       "      <td>2025-07-14</td>\n",
       "    </tr>\n",
       "    <tr>\n",
       "      <th>91</th>\n",
       "      <td>U102494</td>\n",
       "      <td>2025-07-18</td>\n",
       "    </tr>\n",
       "    <tr>\n",
       "      <th>130</th>\n",
       "      <td>U102008</td>\n",
       "      <td>2025-06-12</td>\n",
       "    </tr>\n",
       "    <tr>\n",
       "      <th>140</th>\n",
       "      <td>U100794</td>\n",
       "      <td>2025-05-21</td>\n",
       "    </tr>\n",
       "    <tr>\n",
       "      <th>172</th>\n",
       "      <td>U102792</td>\n",
       "      <td>2025-05-20</td>\n",
       "    </tr>\n",
       "    <tr>\n",
       "      <th>...</th>\n",
       "      <td>...</td>\n",
       "      <td>...</td>\n",
       "    </tr>\n",
       "    <tr>\n",
       "      <th>29995</th>\n",
       "      <td>U101429</td>\n",
       "      <td>2025-07-15</td>\n",
       "    </tr>\n",
       "    <tr>\n",
       "      <th>29996</th>\n",
       "      <td>U100473</td>\n",
       "      <td>2025-05-07</td>\n",
       "    </tr>\n",
       "    <tr>\n",
       "      <th>29997</th>\n",
       "      <td>U102427</td>\n",
       "      <td>2025-06-13</td>\n",
       "    </tr>\n",
       "    <tr>\n",
       "      <th>29998</th>\n",
       "      <td>U100673</td>\n",
       "      <td>2025-06-24</td>\n",
       "    </tr>\n",
       "    <tr>\n",
       "      <th>29999</th>\n",
       "      <td>U100666</td>\n",
       "      <td>2025-05-19</td>\n",
       "    </tr>\n",
       "  </tbody>\n",
       "</table>\n",
       "<p>27000 rows × 2 columns</p>\n",
       "</div>"
      ],
      "text/plain": [
       "       user_id login_date\n",
       "36     U101005 2025-07-14\n",
       "91     U102494 2025-07-18\n",
       "130    U102008 2025-06-12\n",
       "140    U100794 2025-05-21\n",
       "172    U102792 2025-05-20\n",
       "...        ...        ...\n",
       "29995  U101429 2025-07-15\n",
       "29996  U100473 2025-05-07\n",
       "29997  U102427 2025-06-13\n",
       "29998  U100673 2025-06-24\n",
       "29999  U100666 2025-05-19\n",
       "\n",
       "[27000 rows x 2 columns]"
      ]
     },
     "execution_count": 7,
     "metadata": {},
     "output_type": "execute_result"
    }
   ],
   "source": [
    "login[login.duplicated(subset = 'user_id')]"
   ]
  },
  {
   "cell_type": "code",
   "execution_count": 8,
   "id": "c38d0141-839a-4c09-89e1-7b2dd69bd01c",
   "metadata": {},
   "outputs": [
    {
     "data": {
      "text/html": [
       "<div>\n",
       "<style scoped>\n",
       "    .dataframe tbody tr th:only-of-type {\n",
       "        vertical-align: middle;\n",
       "    }\n",
       "\n",
       "    .dataframe tbody tr th {\n",
       "        vertical-align: top;\n",
       "    }\n",
       "\n",
       "    .dataframe thead th {\n",
       "        text-align: right;\n",
       "    }\n",
       "</style>\n",
       "<table border=\"1\" class=\"dataframe\">\n",
       "  <thead>\n",
       "    <tr style=\"text-align: right;\">\n",
       "      <th></th>\n",
       "      <th>user_id</th>\n",
       "      <th>login_date</th>\n",
       "    </tr>\n",
       "  </thead>\n",
       "  <tbody>\n",
       "    <tr>\n",
       "      <th>405</th>\n",
       "      <td>U100071</td>\n",
       "      <td>2025-06-22</td>\n",
       "    </tr>\n",
       "    <tr>\n",
       "      <th>955</th>\n",
       "      <td>U100052</td>\n",
       "      <td>2025-07-13</td>\n",
       "    </tr>\n",
       "    <tr>\n",
       "      <th>1188</th>\n",
       "      <td>U101480</td>\n",
       "      <td>2025-05-21</td>\n",
       "    </tr>\n",
       "    <tr>\n",
       "      <th>1674</th>\n",
       "      <td>U102845</td>\n",
       "      <td>2025-06-13</td>\n",
       "    </tr>\n",
       "    <tr>\n",
       "      <th>1701</th>\n",
       "      <td>U100273</td>\n",
       "      <td>2025-05-10</td>\n",
       "    </tr>\n",
       "    <tr>\n",
       "      <th>...</th>\n",
       "      <td>...</td>\n",
       "      <td>...</td>\n",
       "    </tr>\n",
       "    <tr>\n",
       "      <th>29942</th>\n",
       "      <td>U101002</td>\n",
       "      <td>2025-07-05</td>\n",
       "    </tr>\n",
       "    <tr>\n",
       "      <th>29947</th>\n",
       "      <td>U102592</td>\n",
       "      <td>2025-05-14</td>\n",
       "    </tr>\n",
       "    <tr>\n",
       "      <th>29955</th>\n",
       "      <td>U101607</td>\n",
       "      <td>2025-05-20</td>\n",
       "    </tr>\n",
       "    <tr>\n",
       "      <th>29956</th>\n",
       "      <td>U101189</td>\n",
       "      <td>2025-07-09</td>\n",
       "    </tr>\n",
       "    <tr>\n",
       "      <th>29964</th>\n",
       "      <td>U102735</td>\n",
       "      <td>2025-05-27</td>\n",
       "    </tr>\n",
       "  </tbody>\n",
       "</table>\n",
       "<p>1632 rows × 2 columns</p>\n",
       "</div>"
      ],
      "text/plain": [
       "       user_id login_date\n",
       "405    U100071 2025-06-22\n",
       "955    U100052 2025-07-13\n",
       "1188   U101480 2025-05-21\n",
       "1674   U102845 2025-06-13\n",
       "1701   U100273 2025-05-10\n",
       "...        ...        ...\n",
       "29942  U101002 2025-07-05\n",
       "29947  U102592 2025-05-14\n",
       "29955  U101607 2025-05-20\n",
       "29956  U101189 2025-07-09\n",
       "29964  U102735 2025-05-27\n",
       "\n",
       "[1632 rows x 2 columns]"
      ]
     },
     "execution_count": 8,
     "metadata": {},
     "output_type": "execute_result"
    }
   ],
   "source": [
    "login[login.duplicated()]"
   ]
  },
  {
   "cell_type": "code",
   "execution_count": null,
   "id": "5fe22587-d9c5-4b6f-9cf6-e6437f4c880f",
   "metadata": {},
   "outputs": [],
   "source": []
  },
  {
   "cell_type": "code",
   "execution_count": 10,
   "id": "bfb1951b-c8e1-4569-ae58-d05fd305ca81",
   "metadata": {},
   "outputs": [
    {
     "data": {
      "text/html": [
       "<div>\n",
       "<style scoped>\n",
       "    .dataframe tbody tr th:only-of-type {\n",
       "        vertical-align: middle;\n",
       "    }\n",
       "\n",
       "    .dataframe tbody tr th {\n",
       "        vertical-align: top;\n",
       "    }\n",
       "\n",
       "    .dataframe thead th {\n",
       "        text-align: right;\n",
       "    }\n",
       "</style>\n",
       "<table border=\"1\" class=\"dataframe\">\n",
       "  <thead>\n",
       "    <tr style=\"text-align: right;\">\n",
       "      <th></th>\n",
       "      <th>user_id</th>\n",
       "      <th>login_date</th>\n",
       "    </tr>\n",
       "  </thead>\n",
       "  <tbody>\n",
       "    <tr>\n",
       "      <th>0</th>\n",
       "      <td>U100622</td>\n",
       "      <td>2025-07-15</td>\n",
       "    </tr>\n",
       "    <tr>\n",
       "      <th>1</th>\n",
       "      <td>U100241</td>\n",
       "      <td>2025-07-02</td>\n",
       "    </tr>\n",
       "    <tr>\n",
       "      <th>2</th>\n",
       "      <td>U101767</td>\n",
       "      <td>2025-05-07</td>\n",
       "    </tr>\n",
       "    <tr>\n",
       "      <th>3</th>\n",
       "      <td>U100491</td>\n",
       "      <td>2025-06-09</td>\n",
       "    </tr>\n",
       "    <tr>\n",
       "      <th>4</th>\n",
       "      <td>U101275</td>\n",
       "      <td>2025-05-09</td>\n",
       "    </tr>\n",
       "    <tr>\n",
       "      <th>...</th>\n",
       "      <td>...</td>\n",
       "      <td>...</td>\n",
       "    </tr>\n",
       "    <tr>\n",
       "      <th>29995</th>\n",
       "      <td>U101429</td>\n",
       "      <td>2025-07-15</td>\n",
       "    </tr>\n",
       "    <tr>\n",
       "      <th>29996</th>\n",
       "      <td>U100473</td>\n",
       "      <td>2025-05-07</td>\n",
       "    </tr>\n",
       "    <tr>\n",
       "      <th>29997</th>\n",
       "      <td>U102427</td>\n",
       "      <td>2025-06-13</td>\n",
       "    </tr>\n",
       "    <tr>\n",
       "      <th>29998</th>\n",
       "      <td>U100673</td>\n",
       "      <td>2025-06-24</td>\n",
       "    </tr>\n",
       "    <tr>\n",
       "      <th>29999</th>\n",
       "      <td>U100666</td>\n",
       "      <td>2025-05-19</td>\n",
       "    </tr>\n",
       "  </tbody>\n",
       "</table>\n",
       "<p>28368 rows × 2 columns</p>\n",
       "</div>"
      ],
      "text/plain": [
       "       user_id login_date\n",
       "0      U100622 2025-07-15\n",
       "1      U100241 2025-07-02\n",
       "2      U101767 2025-05-07\n",
       "3      U100491 2025-06-09\n",
       "4      U101275 2025-05-09\n",
       "...        ...        ...\n",
       "29995  U101429 2025-07-15\n",
       "29996  U100473 2025-05-07\n",
       "29997  U102427 2025-06-13\n",
       "29998  U100673 2025-06-24\n",
       "29999  U100666 2025-05-19\n",
       "\n",
       "[28368 rows x 2 columns]"
      ]
     },
     "execution_count": 10,
     "metadata": {},
     "output_type": "execute_result"
    }
   ],
   "source": [
    "login"
   ]
  },
  {
   "cell_type": "code",
   "execution_count": 60,
   "id": "88909f17-793f-4b8d-8c21-654ba6d4fcb0",
   "metadata": {},
   "outputs": [
    {
     "name": "stdout",
     "output_type": "stream",
     "text": [
      "<class 'pandas.core.frame.DataFrame'>\n",
      "Index: 28368 entries, 0 to 29999\n",
      "Data columns (total 2 columns):\n",
      " #   Column      Non-Null Count  Dtype         \n",
      "---  ------      --------------  -----         \n",
      " 0   user_id     28368 non-null  object        \n",
      " 1   login_date  28368 non-null  datetime64[ns]\n",
      "dtypes: datetime64[ns](1), object(1)\n",
      "memory usage: 664.9+ KB\n"
     ]
    }
   ],
   "source": [
    "login.info()"
   ]
  },
  {
   "cell_type": "code",
   "execution_count": 61,
   "id": "4ea879e5-7ac8-4a65-81ec-df6adc2c164e",
   "metadata": {},
   "outputs": [
    {
     "data": {
      "text/html": [
       "<div>\n",
       "<style scoped>\n",
       "    .dataframe tbody tr th:only-of-type {\n",
       "        vertical-align: middle;\n",
       "    }\n",
       "\n",
       "    .dataframe tbody tr th {\n",
       "        vertical-align: top;\n",
       "    }\n",
       "\n",
       "    .dataframe thead th {\n",
       "        text-align: right;\n",
       "    }\n",
       "</style>\n",
       "<table border=\"1\" class=\"dataframe\">\n",
       "  <thead>\n",
       "    <tr style=\"text-align: right;\">\n",
       "      <th></th>\n",
       "      <th>user_id</th>\n",
       "      <th>login_date</th>\n",
       "    </tr>\n",
       "  </thead>\n",
       "  <tbody>\n",
       "    <tr>\n",
       "      <th>0</th>\n",
       "      <td>U100622</td>\n",
       "      <td>2025-07-15</td>\n",
       "    </tr>\n",
       "    <tr>\n",
       "      <th>1</th>\n",
       "      <td>U100241</td>\n",
       "      <td>2025-07-02</td>\n",
       "    </tr>\n",
       "    <tr>\n",
       "      <th>2</th>\n",
       "      <td>U101767</td>\n",
       "      <td>2025-05-07</td>\n",
       "    </tr>\n",
       "    <tr>\n",
       "      <th>3</th>\n",
       "      <td>U100491</td>\n",
       "      <td>2025-06-09</td>\n",
       "    </tr>\n",
       "    <tr>\n",
       "      <th>4</th>\n",
       "      <td>U101275</td>\n",
       "      <td>2025-05-09</td>\n",
       "    </tr>\n",
       "  </tbody>\n",
       "</table>\n",
       "</div>"
      ],
      "text/plain": [
       "   user_id login_date\n",
       "0  U100622 2025-07-15\n",
       "1  U100241 2025-07-02\n",
       "2  U101767 2025-05-07\n",
       "3  U100491 2025-06-09\n",
       "4  U101275 2025-05-09"
      ]
     },
     "execution_count": 61,
     "metadata": {},
     "output_type": "execute_result"
    }
   ],
   "source": [
    "login.head()"
   ]
  },
  {
   "cell_type": "code",
   "execution_count": 62,
   "id": "ca3e14b2-6614-4399-a14a-7efd4e4be8df",
   "metadata": {},
   "outputs": [],
   "source": [
    "gold_login_activities = login"
   ]
  },
  {
   "cell_type": "code",
   "execution_count": 63,
   "id": "d13eb828-714f-478a-b926-0169fe951380",
   "metadata": {},
   "outputs": [
    {
     "data": {
      "text/html": [
       "<div>\n",
       "<style scoped>\n",
       "    .dataframe tbody tr th:only-of-type {\n",
       "        vertical-align: middle;\n",
       "    }\n",
       "\n",
       "    .dataframe tbody tr th {\n",
       "        vertical-align: top;\n",
       "    }\n",
       "\n",
       "    .dataframe thead th {\n",
       "        text-align: right;\n",
       "    }\n",
       "</style>\n",
       "<table border=\"1\" class=\"dataframe\">\n",
       "  <thead>\n",
       "    <tr style=\"text-align: right;\">\n",
       "      <th></th>\n",
       "      <th>user_id</th>\n",
       "      <th>login_date</th>\n",
       "    </tr>\n",
       "  </thead>\n",
       "  <tbody>\n",
       "    <tr>\n",
       "      <th>0</th>\n",
       "      <td>U100622</td>\n",
       "      <td>2025-07-15</td>\n",
       "    </tr>\n",
       "    <tr>\n",
       "      <th>1</th>\n",
       "      <td>U100241</td>\n",
       "      <td>2025-07-02</td>\n",
       "    </tr>\n",
       "  </tbody>\n",
       "</table>\n",
       "</div>"
      ],
      "text/plain": [
       "   user_id login_date\n",
       "0  U100622 2025-07-15\n",
       "1  U100241 2025-07-02"
      ]
     },
     "execution_count": 63,
     "metadata": {},
     "output_type": "execute_result"
    }
   ],
   "source": [
    "gold_login_activities.head(2)"
   ]
  },
  {
   "cell_type": "code",
   "execution_count": null,
   "id": "016dafdc-649e-47c1-96a4-cf760df8c7ac",
   "metadata": {},
   "outputs": [],
   "source": []
  },
  {
   "cell_type": "markdown",
   "id": "939a504f-79ec-4609-8090-35642314139b",
   "metadata": {},
   "source": [
    "# saving this cleaned dataset to the file path(gold_login_activities)"
   ]
  },
  {
   "cell_type": "code",
   "execution_count": 64,
   "id": "6b1522e7-ee2a-4130-8aeb-9e4cde6a6e51",
   "metadata": {},
   "outputs": [],
   "source": [
    "gold_login_activities.to_csv(r\"F:\\DATASET\\FINTECH CUSTOMER RETENTION\\DATASET\\gold_login_activities.csv\", index=False)  "
   ]
  },
  {
   "cell_type": "code",
   "execution_count": null,
   "id": "3da890bf-4c42-49e5-a1bc-69d9f3579753",
   "metadata": {},
   "outputs": [],
   "source": []
  },
  {
   "cell_type": "markdown",
   "id": "31188164-4ebf-422e-be3e-b1f57aecb5fc",
   "metadata": {},
   "source": [
    "# importing transactions dataset (transactions_logs)"
   ]
  },
  {
   "cell_type": "code",
   "execution_count": 11,
   "id": "07fe3f67-c651-4920-85ce-9ddf1ac6f7a0",
   "metadata": {},
   "outputs": [],
   "source": [
    "trans = pd.read_csv(r\"F:\\DATASET\\FINTECH CUSTOMER RETENTION\\DATASET\\transaction_logs.csv\")"
   ]
  },
  {
   "cell_type": "code",
   "execution_count": 12,
   "id": "802dd1ac-d816-45d1-9eab-95742f2152ab",
   "metadata": {},
   "outputs": [
    {
     "data": {
      "text/html": [
       "<div>\n",
       "<style scoped>\n",
       "    .dataframe tbody tr th:only-of-type {\n",
       "        vertical-align: middle;\n",
       "    }\n",
       "\n",
       "    .dataframe tbody tr th {\n",
       "        vertical-align: top;\n",
       "    }\n",
       "\n",
       "    .dataframe thead th {\n",
       "        text-align: right;\n",
       "    }\n",
       "</style>\n",
       "<table border=\"1\" class=\"dataframe\">\n",
       "  <thead>\n",
       "    <tr style=\"text-align: right;\">\n",
       "      <th></th>\n",
       "      <th>user_id</th>\n",
       "      <th>txn_date</th>\n",
       "      <th>txn_amount</th>\n",
       "      <th>channel</th>\n",
       "      <th>txn_type</th>\n",
       "      <th>txn_id</th>\n",
       "    </tr>\n",
       "  </thead>\n",
       "  <tbody>\n",
       "    <tr>\n",
       "      <th>0</th>\n",
       "      <td>U100323</td>\n",
       "      <td>2025-06-04</td>\n",
       "      <td>177.91</td>\n",
       "      <td>USSD</td>\n",
       "      <td>bill</td>\n",
       "      <td>T000001</td>\n",
       "    </tr>\n",
       "    <tr>\n",
       "      <th>1</th>\n",
       "      <td>U100090</td>\n",
       "      <td>2025-06-13</td>\n",
       "      <td>535.95</td>\n",
       "      <td>App</td>\n",
       "      <td>bill</td>\n",
       "      <td>T000002</td>\n",
       "    </tr>\n",
       "    <tr>\n",
       "      <th>2</th>\n",
       "      <td>U102532</td>\n",
       "      <td>2025-05-14</td>\n",
       "      <td>917.15</td>\n",
       "      <td>USSD</td>\n",
       "      <td>send</td>\n",
       "      <td>T000003</td>\n",
       "    </tr>\n",
       "    <tr>\n",
       "      <th>3</th>\n",
       "      <td>U101399</td>\n",
       "      <td>2025-05-23</td>\n",
       "      <td>186.18</td>\n",
       "      <td>USSD</td>\n",
       "      <td>topup</td>\n",
       "      <td>T000004</td>\n",
       "    </tr>\n",
       "    <tr>\n",
       "      <th>4</th>\n",
       "      <td>U101323</td>\n",
       "      <td>2025-05-14</td>\n",
       "      <td>786.74</td>\n",
       "      <td>USSD</td>\n",
       "      <td>loan</td>\n",
       "      <td>T000005</td>\n",
       "    </tr>\n",
       "    <tr>\n",
       "      <th>...</th>\n",
       "      <td>...</td>\n",
       "      <td>...</td>\n",
       "      <td>...</td>\n",
       "      <td>...</td>\n",
       "      <td>...</td>\n",
       "      <td>...</td>\n",
       "    </tr>\n",
       "    <tr>\n",
       "      <th>29995</th>\n",
       "      <td>U102567</td>\n",
       "      <td>2025-06-28</td>\n",
       "      <td>575.82</td>\n",
       "      <td>App</td>\n",
       "      <td>bill</td>\n",
       "      <td>T029996</td>\n",
       "    </tr>\n",
       "    <tr>\n",
       "      <th>29996</th>\n",
       "      <td>U102267</td>\n",
       "      <td>2025-07-12</td>\n",
       "      <td>294.23</td>\n",
       "      <td>App</td>\n",
       "      <td>send</td>\n",
       "      <td>T029997</td>\n",
       "    </tr>\n",
       "    <tr>\n",
       "      <th>29997</th>\n",
       "      <td>U101782</td>\n",
       "      <td>2025-07-25</td>\n",
       "      <td>432.58</td>\n",
       "      <td>App</td>\n",
       "      <td>topup</td>\n",
       "      <td>T029998</td>\n",
       "    </tr>\n",
       "    <tr>\n",
       "      <th>29998</th>\n",
       "      <td>U100869</td>\n",
       "      <td>2025-07-12</td>\n",
       "      <td>125.99</td>\n",
       "      <td>USSD</td>\n",
       "      <td>loan</td>\n",
       "      <td>T029999</td>\n",
       "    </tr>\n",
       "    <tr>\n",
       "      <th>29999</th>\n",
       "      <td>U102276</td>\n",
       "      <td>2025-06-22</td>\n",
       "      <td>853.70</td>\n",
       "      <td>USSD</td>\n",
       "      <td>topup</td>\n",
       "      <td>T030000</td>\n",
       "    </tr>\n",
       "  </tbody>\n",
       "</table>\n",
       "<p>30000 rows × 6 columns</p>\n",
       "</div>"
      ],
      "text/plain": [
       "       user_id    txn_date  txn_amount channel txn_type   txn_id\n",
       "0      U100323  2025-06-04      177.91    USSD     bill  T000001\n",
       "1      U100090  2025-06-13      535.95     App     bill  T000002\n",
       "2      U102532  2025-05-14      917.15    USSD     send  T000003\n",
       "3      U101399  2025-05-23      186.18    USSD    topup  T000004\n",
       "4      U101323  2025-05-14      786.74    USSD     loan  T000005\n",
       "...        ...         ...         ...     ...      ...      ...\n",
       "29995  U102567  2025-06-28      575.82     App     bill  T029996\n",
       "29996  U102267  2025-07-12      294.23     App     send  T029997\n",
       "29997  U101782  2025-07-25      432.58     App    topup  T029998\n",
       "29998  U100869  2025-07-12      125.99    USSD     loan  T029999\n",
       "29999  U102276  2025-06-22      853.70    USSD    topup  T030000\n",
       "\n",
       "[30000 rows x 6 columns]"
      ]
     },
     "execution_count": 12,
     "metadata": {},
     "output_type": "execute_result"
    }
   ],
   "source": [
    "trans"
   ]
  },
  {
   "cell_type": "code",
   "execution_count": 13,
   "id": "af066520-8908-414f-84e4-b16754d6e9ff",
   "metadata": {},
   "outputs": [
    {
     "data": {
      "text/plain": [
       "user_id        object\n",
       "txn_date       object\n",
       "txn_amount    float64\n",
       "channel        object\n",
       "txn_type       object\n",
       "txn_id         object\n",
       "dtype: object"
      ]
     },
     "execution_count": 13,
     "metadata": {},
     "output_type": "execute_result"
    }
   ],
   "source": [
    "   trans.dtypes"
   ]
  },
  {
   "cell_type": "code",
   "execution_count": 14,
   "id": "6df4f616-dc0e-42aa-9882-6d289c16054f",
   "metadata": {},
   "outputs": [
    {
     "data": {
      "text/html": [
       "<div>\n",
       "<style scoped>\n",
       "    .dataframe tbody tr th:only-of-type {\n",
       "        vertical-align: middle;\n",
       "    }\n",
       "\n",
       "    .dataframe tbody tr th {\n",
       "        vertical-align: top;\n",
       "    }\n",
       "\n",
       "    .dataframe thead th {\n",
       "        text-align: right;\n",
       "    }\n",
       "</style>\n",
       "<table border=\"1\" class=\"dataframe\">\n",
       "  <thead>\n",
       "    <tr style=\"text-align: right;\">\n",
       "      <th></th>\n",
       "      <th>user_id</th>\n",
       "      <th>txn_date</th>\n",
       "      <th>txn_amount</th>\n",
       "      <th>channel</th>\n",
       "      <th>txn_type</th>\n",
       "      <th>txn_id</th>\n",
       "    </tr>\n",
       "  </thead>\n",
       "  <tbody>\n",
       "  </tbody>\n",
       "</table>\n",
       "</div>"
      ],
      "text/plain": [
       "Empty DataFrame\n",
       "Columns: [user_id, txn_date, txn_amount, channel, txn_type, txn_id]\n",
       "Index: []"
      ]
     },
     "execution_count": 14,
     "metadata": {},
     "output_type": "execute_result"
    }
   ],
   "source": [
    "trans[trans.duplicated()]"
   ]
  },
  {
   "cell_type": "code",
   "execution_count": 15,
   "id": "c181765c-eea8-4201-9f06-55581a7b4356",
   "metadata": {},
   "outputs": [
    {
     "name": "stdout",
     "output_type": "stream",
     "text": [
      "<class 'pandas.core.frame.DataFrame'>\n",
      "RangeIndex: 30000 entries, 0 to 29999\n",
      "Data columns (total 6 columns):\n",
      " #   Column      Non-Null Count  Dtype  \n",
      "---  ------      --------------  -----  \n",
      " 0   user_id     30000 non-null  object \n",
      " 1   txn_date    30000 non-null  object \n",
      " 2   txn_amount  30000 non-null  float64\n",
      " 3   channel     30000 non-null  object \n",
      " 4   txn_type    30000 non-null  object \n",
      " 5   txn_id      30000 non-null  object \n",
      "dtypes: float64(1), object(5)\n",
      "memory usage: 1.4+ MB\n"
     ]
    }
   ],
   "source": [
    "trans.info()"
   ]
  },
  {
   "cell_type": "code",
   "execution_count": null,
   "id": "43cae404-2567-4529-bd29-73efcfe95c67",
   "metadata": {},
   "outputs": [],
   "source": []
  },
  {
   "cell_type": "code",
   "execution_count": 16,
   "id": "0dead3b7-05cd-4d17-a97b-f679fbb80017",
   "metadata": {},
   "outputs": [
    {
     "data": {
      "text/html": [
       "<div>\n",
       "<style scoped>\n",
       "    .dataframe tbody tr th:only-of-type {\n",
       "        vertical-align: middle;\n",
       "    }\n",
       "\n",
       "    .dataframe tbody tr th {\n",
       "        vertical-align: top;\n",
       "    }\n",
       "\n",
       "    .dataframe thead th {\n",
       "        text-align: right;\n",
       "    }\n",
       "</style>\n",
       "<table border=\"1\" class=\"dataframe\">\n",
       "  <thead>\n",
       "    <tr style=\"text-align: right;\">\n",
       "      <th></th>\n",
       "      <th>txn_amount</th>\n",
       "    </tr>\n",
       "  </thead>\n",
       "  <tbody>\n",
       "    <tr>\n",
       "      <th>count</th>\n",
       "      <td>30000.000000</td>\n",
       "    </tr>\n",
       "    <tr>\n",
       "      <th>mean</th>\n",
       "      <td>497.877207</td>\n",
       "    </tr>\n",
       "    <tr>\n",
       "      <th>std</th>\n",
       "      <td>288.135365</td>\n",
       "    </tr>\n",
       "    <tr>\n",
       "      <th>min</th>\n",
       "      <td>1.050000</td>\n",
       "    </tr>\n",
       "    <tr>\n",
       "      <th>25%</th>\n",
       "      <td>249.005000</td>\n",
       "    </tr>\n",
       "    <tr>\n",
       "      <th>50%</th>\n",
       "      <td>495.170000</td>\n",
       "    </tr>\n",
       "    <tr>\n",
       "      <th>75%</th>\n",
       "      <td>746.352500</td>\n",
       "    </tr>\n",
       "    <tr>\n",
       "      <th>max</th>\n",
       "      <td>1000.000000</td>\n",
       "    </tr>\n",
       "  </tbody>\n",
       "</table>\n",
       "</div>"
      ],
      "text/plain": [
       "         txn_amount\n",
       "count  30000.000000\n",
       "mean     497.877207\n",
       "std      288.135365\n",
       "min        1.050000\n",
       "25%      249.005000\n",
       "50%      495.170000\n",
       "75%      746.352500\n",
       "max     1000.000000"
      ]
     },
     "execution_count": 16,
     "metadata": {},
     "output_type": "execute_result"
    }
   ],
   "source": [
    "trans.describe()"
   ]
  },
  {
   "cell_type": "code",
   "execution_count": 17,
   "id": "95b04901-84c9-413d-a6c6-669305c90477",
   "metadata": {},
   "outputs": [
    {
     "data": {
      "text/plain": [
       "Index(['user_id', 'txn_date', 'txn_amount', 'channel', 'txn_type', 'txn_id'], dtype='object')"
      ]
     },
     "execution_count": 17,
     "metadata": {},
     "output_type": "execute_result"
    }
   ],
   "source": [
    "trans.columns"
   ]
  },
  {
   "cell_type": "code",
   "execution_count": 18,
   "id": "0acd73ae-254f-40b9-ba61-9f3e6424139a",
   "metadata": {},
   "outputs": [
    {
     "data": {
      "text/plain": [
       "array(['bill', 'send', 'topup', 'loan'], dtype=object)"
      ]
     },
     "execution_count": 18,
     "metadata": {},
     "output_type": "execute_result"
    }
   ],
   "source": [
    "trans['txn_type'].unique()"
   ]
  },
  {
   "cell_type": "code",
   "execution_count": null,
   "id": "2c06f2fb-9386-4f94-8b55-bf68d456567a",
   "metadata": {},
   "outputs": [],
   "source": []
  },
  {
   "cell_type": "code",
   "execution_count": 19,
   "id": "7d7b70ca-a7ba-4749-acec-814861836da3",
   "metadata": {},
   "outputs": [],
   "source": [
    "trans['txn_type'] = trans['txn_type'].replace({'send': 'funds'})"
   ]
  },
  {
   "cell_type": "code",
   "execution_count": 20,
   "id": "f2bb5f4b-f458-4ee1-b373-5206f72bed52",
   "metadata": {},
   "outputs": [
    {
     "data": {
      "text/plain": [
       "array(['bill', 'funds', 'topup', 'loan'], dtype=object)"
      ]
     },
     "execution_count": 20,
     "metadata": {},
     "output_type": "execute_result"
    }
   ],
   "source": [
    "trans['txn_type'].unique()"
   ]
  },
  {
   "cell_type": "code",
   "execution_count": 21,
   "id": "de83c83d-ce67-4d6d-b628-4e6cdb1a2080",
   "metadata": {},
   "outputs": [
    {
     "data": {
      "text/plain": [
       "txn_type\n",
       "topup    499.480456\n",
       "loan     498.431867\n",
       "bill     497.311129\n",
       "funds    496.278432\n",
       "Name: txn_amount, dtype: float64"
      ]
     },
     "execution_count": 21,
     "metadata": {},
     "output_type": "execute_result"
    }
   ],
   "source": [
    "trans.groupby('txn_type')['txn_amount'].mean().sort_values(ascending = False)"
   ]
  },
  {
   "cell_type": "code",
   "execution_count": null,
   "id": "7ed85f85-2167-4c1d-8c9e-86d6e8315ca2",
   "metadata": {},
   "outputs": [],
   "source": []
  },
  {
   "cell_type": "code",
   "execution_count": 22,
   "id": "0ce372f4-27db-4f5f-a0b6-5d1750598304",
   "metadata": {},
   "outputs": [
    {
     "name": "stdout",
     "output_type": "stream",
     "text": [
      "<class 'pandas.core.frame.DataFrame'>\n",
      "RangeIndex: 30000 entries, 0 to 29999\n",
      "Data columns (total 6 columns):\n",
      " #   Column      Non-Null Count  Dtype  \n",
      "---  ------      --------------  -----  \n",
      " 0   user_id     30000 non-null  object \n",
      " 1   txn_date    30000 non-null  object \n",
      " 2   txn_amount  30000 non-null  float64\n",
      " 3   channel     30000 non-null  object \n",
      " 4   txn_type    30000 non-null  object \n",
      " 5   txn_id      30000 non-null  object \n",
      "dtypes: float64(1), object(5)\n",
      "memory usage: 1.4+ MB\n"
     ]
    }
   ],
   "source": [
    "trans.info()"
   ]
  },
  {
   "cell_type": "code",
   "execution_count": null,
   "id": "04c35115-c52a-4376-9b6c-9e87f2a883bb",
   "metadata": {},
   "outputs": [],
   "source": []
  },
  {
   "cell_type": "code",
   "execution_count": 23,
   "id": "fabca012-ba4d-4441-8a4a-e29136bdbb62",
   "metadata": {},
   "outputs": [],
   "source": [
    "trans['txn_date'] = pd.to_datetime(trans['txn_date'])"
   ]
  },
  {
   "cell_type": "code",
   "execution_count": 49,
   "id": "61fdf742-0395-40c4-98f5-13a9b32d3653",
   "metadata": {},
   "outputs": [
    {
     "name": "stdout",
     "output_type": "stream",
     "text": [
      "<class 'pandas.core.frame.DataFrame'>\n",
      "RangeIndex: 30000 entries, 0 to 29999\n",
      "Data columns (total 6 columns):\n",
      " #   Column      Non-Null Count  Dtype         \n",
      "---  ------      --------------  -----         \n",
      " 0   user_id     30000 non-null  object        \n",
      " 1   txn_date    30000 non-null  datetime64[ns]\n",
      " 2   txn_amount  30000 non-null  float64       \n",
      " 3   channel     30000 non-null  object        \n",
      " 4   txn_type    30000 non-null  object        \n",
      " 5   txn_id      30000 non-null  object        \n",
      "dtypes: datetime64[ns](1), float64(1), object(4)\n",
      "memory usage: 1.4+ MB\n"
     ]
    }
   ],
   "source": [
    "trans.info()"
   ]
  },
  {
   "cell_type": "code",
   "execution_count": 51,
   "id": "1d10862f-27ed-4c03-842e-37c1ed63a214",
   "metadata": {},
   "outputs": [
    {
     "data": {
      "text/plain": [
       "array(['bill', 'funds', 'topup', 'loan'], dtype=object)"
      ]
     },
     "execution_count": 51,
     "metadata": {},
     "output_type": "execute_result"
    }
   ],
   "source": [
    "trans['txn_type'].unique()"
   ]
  },
  {
   "cell_type": "code",
   "execution_count": 55,
   "id": "bfa1002d-517d-407d-8eaa-00d1e56bcc9a",
   "metadata": {},
   "outputs": [],
   "source": [
    "gold_transactions_logs = trans"
   ]
  },
  {
   "cell_type": "code",
   "execution_count": 56,
   "id": "518b8618-f154-4a1e-9b11-27dd0836e64a",
   "metadata": {},
   "outputs": [
    {
     "data": {
      "text/html": [
       "<div>\n",
       "<style scoped>\n",
       "    .dataframe tbody tr th:only-of-type {\n",
       "        vertical-align: middle;\n",
       "    }\n",
       "\n",
       "    .dataframe tbody tr th {\n",
       "        vertical-align: top;\n",
       "    }\n",
       "\n",
       "    .dataframe thead th {\n",
       "        text-align: right;\n",
       "    }\n",
       "</style>\n",
       "<table border=\"1\" class=\"dataframe\">\n",
       "  <thead>\n",
       "    <tr style=\"text-align: right;\">\n",
       "      <th></th>\n",
       "      <th>user_id</th>\n",
       "      <th>txn_date</th>\n",
       "      <th>txn_amount</th>\n",
       "      <th>channel</th>\n",
       "      <th>txn_type</th>\n",
       "      <th>txn_id</th>\n",
       "    </tr>\n",
       "  </thead>\n",
       "  <tbody>\n",
       "    <tr>\n",
       "      <th>0</th>\n",
       "      <td>U100323</td>\n",
       "      <td>2025-06-04</td>\n",
       "      <td>177.91</td>\n",
       "      <td>USSD</td>\n",
       "      <td>bill</td>\n",
       "      <td>T000001</td>\n",
       "    </tr>\n",
       "    <tr>\n",
       "      <th>1</th>\n",
       "      <td>U100090</td>\n",
       "      <td>2025-06-13</td>\n",
       "      <td>535.95</td>\n",
       "      <td>App</td>\n",
       "      <td>bill</td>\n",
       "      <td>T000002</td>\n",
       "    </tr>\n",
       "    <tr>\n",
       "      <th>2</th>\n",
       "      <td>U102532</td>\n",
       "      <td>2025-05-14</td>\n",
       "      <td>917.15</td>\n",
       "      <td>USSD</td>\n",
       "      <td>funds</td>\n",
       "      <td>T000003</td>\n",
       "    </tr>\n",
       "    <tr>\n",
       "      <th>3</th>\n",
       "      <td>U101399</td>\n",
       "      <td>2025-05-23</td>\n",
       "      <td>186.18</td>\n",
       "      <td>USSD</td>\n",
       "      <td>topup</td>\n",
       "      <td>T000004</td>\n",
       "    </tr>\n",
       "    <tr>\n",
       "      <th>4</th>\n",
       "      <td>U101323</td>\n",
       "      <td>2025-05-14</td>\n",
       "      <td>786.74</td>\n",
       "      <td>USSD</td>\n",
       "      <td>loan</td>\n",
       "      <td>T000005</td>\n",
       "    </tr>\n",
       "  </tbody>\n",
       "</table>\n",
       "</div>"
      ],
      "text/plain": [
       "   user_id   txn_date  txn_amount channel txn_type   txn_id\n",
       "0  U100323 2025-06-04      177.91    USSD     bill  T000001\n",
       "1  U100090 2025-06-13      535.95     App     bill  T000002\n",
       "2  U102532 2025-05-14      917.15    USSD    funds  T000003\n",
       "3  U101399 2025-05-23      186.18    USSD    topup  T000004\n",
       "4  U101323 2025-05-14      786.74    USSD     loan  T000005"
      ]
     },
     "execution_count": 56,
     "metadata": {},
     "output_type": "execute_result"
    }
   ],
   "source": [
    "gold_transactions_logs.head()"
   ]
  },
  {
   "cell_type": "markdown",
   "id": "a4c6bef6-ae2c-4934-9276-5690552b7fbb",
   "metadata": {},
   "source": [
    "# Saving the datset to the file path in csv (transactions_logs)"
   ]
  },
  {
   "cell_type": "code",
   "execution_count": 65,
   "id": "51c2ec3a-74bb-4896-a175-b107a4d06022",
   "metadata": {},
   "outputs": [],
   "source": [
    "gold_transactions_logs.to_csv(r\"F:\\DATASET\\FINTECH CUSTOMER RETENTION\\DATASET\\gold_transactions_logs.csv\", index=False)"
   ]
  },
  {
   "cell_type": "code",
   "execution_count": null,
   "id": "e003f2e9-9c33-4ebf-a5b7-72d8dfe64ff3",
   "metadata": {},
   "outputs": [],
   "source": []
  },
  {
   "cell_type": "markdown",
   "id": "f64dcff2-68b9-4002-a94d-468cda842cb1",
   "metadata": {},
   "source": [
    "# importing user dataset(user_master)"
   ]
  },
  {
   "cell_type": "code",
   "execution_count": 24,
   "id": "38f20175-a92f-4cbe-aeb5-eb3679e53387",
   "metadata": {},
   "outputs": [],
   "source": [
    "user = pd.read_csv(r\"F:\\DATASET\\FINTECH CUSTOMER RETENTION\\DATASET\\user_master.csv\")"
   ]
  },
  {
   "cell_type": "code",
   "execution_count": 25,
   "id": "9ca9c94d-2753-4b20-a9ac-35f0693aa3a3",
   "metadata": {},
   "outputs": [
    {
     "data": {
      "text/html": [
       "<div>\n",
       "<style scoped>\n",
       "    .dataframe tbody tr th:only-of-type {\n",
       "        vertical-align: middle;\n",
       "    }\n",
       "\n",
       "    .dataframe tbody tr th {\n",
       "        vertical-align: top;\n",
       "    }\n",
       "\n",
       "    .dataframe thead th {\n",
       "        text-align: right;\n",
       "    }\n",
       "</style>\n",
       "<table border=\"1\" class=\"dataframe\">\n",
       "  <thead>\n",
       "    <tr style=\"text-align: right;\">\n",
       "      <th></th>\n",
       "      <th>user_id</th>\n",
       "      <th>signup_date</th>\n",
       "      <th>gender</th>\n",
       "      <th>age</th>\n",
       "      <th>region</th>\n",
       "    </tr>\n",
       "  </thead>\n",
       "  <tbody>\n",
       "    <tr>\n",
       "      <th>0</th>\n",
       "      <td>U100000</td>\n",
       "      <td>2024-10-23</td>\n",
       "      <td>Female</td>\n",
       "      <td>59</td>\n",
       "      <td>Greater Accra</td>\n",
       "    </tr>\n",
       "    <tr>\n",
       "      <th>1</th>\n",
       "      <td>U100001</td>\n",
       "      <td>2024-10-20</td>\n",
       "      <td>Female</td>\n",
       "      <td>51</td>\n",
       "      <td>Volta</td>\n",
       "    </tr>\n",
       "    <tr>\n",
       "      <th>2</th>\n",
       "      <td>U100002</td>\n",
       "      <td>2025-06-26</td>\n",
       "      <td>Female</td>\n",
       "      <td>47</td>\n",
       "      <td>Volta</td>\n",
       "    </tr>\n",
       "    <tr>\n",
       "      <th>3</th>\n",
       "      <td>U100003</td>\n",
       "      <td>2024-11-28</td>\n",
       "      <td>Female</td>\n",
       "      <td>30</td>\n",
       "      <td>Ashanti</td>\n",
       "    </tr>\n",
       "    <tr>\n",
       "      <th>4</th>\n",
       "      <td>U100004</td>\n",
       "      <td>2024-08-06</td>\n",
       "      <td>Male</td>\n",
       "      <td>30</td>\n",
       "      <td>Ashanti</td>\n",
       "    </tr>\n",
       "    <tr>\n",
       "      <th>...</th>\n",
       "      <td>...</td>\n",
       "      <td>...</td>\n",
       "      <td>...</td>\n",
       "      <td>...</td>\n",
       "      <td>...</td>\n",
       "    </tr>\n",
       "    <tr>\n",
       "      <th>2995</th>\n",
       "      <td>U102995</td>\n",
       "      <td>2025-05-07</td>\n",
       "      <td>Female</td>\n",
       "      <td>59</td>\n",
       "      <td>Volta</td>\n",
       "    </tr>\n",
       "    <tr>\n",
       "      <th>2996</th>\n",
       "      <td>U102996</td>\n",
       "      <td>2025-03-29</td>\n",
       "      <td>Male</td>\n",
       "      <td>29</td>\n",
       "      <td>Greater Accra</td>\n",
       "    </tr>\n",
       "    <tr>\n",
       "      <th>2997</th>\n",
       "      <td>U102997</td>\n",
       "      <td>2024-08-21</td>\n",
       "      <td>Male</td>\n",
       "      <td>59</td>\n",
       "      <td>Greater Accra</td>\n",
       "    </tr>\n",
       "    <tr>\n",
       "      <th>2998</th>\n",
       "      <td>U102998</td>\n",
       "      <td>2025-02-16</td>\n",
       "      <td>Female</td>\n",
       "      <td>30</td>\n",
       "      <td>Eastern</td>\n",
       "    </tr>\n",
       "    <tr>\n",
       "      <th>2999</th>\n",
       "      <td>U102999</td>\n",
       "      <td>2024-10-14</td>\n",
       "      <td>Male</td>\n",
       "      <td>28</td>\n",
       "      <td>Western</td>\n",
       "    </tr>\n",
       "  </tbody>\n",
       "</table>\n",
       "<p>3000 rows × 5 columns</p>\n",
       "</div>"
      ],
      "text/plain": [
       "      user_id signup_date  gender  age         region\n",
       "0     U100000  2024-10-23  Female   59  Greater Accra\n",
       "1     U100001  2024-10-20  Female   51          Volta\n",
       "2     U100002  2025-06-26  Female   47          Volta\n",
       "3     U100003  2024-11-28  Female   30        Ashanti\n",
       "4     U100004  2024-08-06    Male   30        Ashanti\n",
       "...       ...         ...     ...  ...            ...\n",
       "2995  U102995  2025-05-07  Female   59          Volta\n",
       "2996  U102996  2025-03-29    Male   29  Greater Accra\n",
       "2997  U102997  2024-08-21    Male   59  Greater Accra\n",
       "2998  U102998  2025-02-16  Female   30        Eastern\n",
       "2999  U102999  2024-10-14    Male   28        Western\n",
       "\n",
       "[3000 rows x 5 columns]"
      ]
     },
     "execution_count": 25,
     "metadata": {},
     "output_type": "execute_result"
    }
   ],
   "source": [
    "user"
   ]
  },
  {
   "cell_type": "code",
   "execution_count": 26,
   "id": "ae09ef07-659b-496b-8341-cbea572fcba8",
   "metadata": {},
   "outputs": [
    {
     "name": "stdout",
     "output_type": "stream",
     "text": [
      "<class 'pandas.core.frame.DataFrame'>\n",
      "RangeIndex: 3000 entries, 0 to 2999\n",
      "Data columns (total 5 columns):\n",
      " #   Column       Non-Null Count  Dtype \n",
      "---  ------       --------------  ----- \n",
      " 0   user_id      3000 non-null   object\n",
      " 1   signup_date  3000 non-null   object\n",
      " 2   gender       3000 non-null   object\n",
      " 3   age          3000 non-null   int64 \n",
      " 4   region       3000 non-null   object\n",
      "dtypes: int64(1), object(4)\n",
      "memory usage: 117.3+ KB\n"
     ]
    }
   ],
   "source": [
    "user.info()"
   ]
  },
  {
   "cell_type": "code",
   "execution_count": 27,
   "id": "126e4147-a70f-4d63-8e1d-27c15c8b1aa6",
   "metadata": {},
   "outputs": [
    {
     "data": {
      "text/html": [
       "<div>\n",
       "<style scoped>\n",
       "    .dataframe tbody tr th:only-of-type {\n",
       "        vertical-align: middle;\n",
       "    }\n",
       "\n",
       "    .dataframe tbody tr th {\n",
       "        vertical-align: top;\n",
       "    }\n",
       "\n",
       "    .dataframe thead th {\n",
       "        text-align: right;\n",
       "    }\n",
       "</style>\n",
       "<table border=\"1\" class=\"dataframe\">\n",
       "  <thead>\n",
       "    <tr style=\"text-align: right;\">\n",
       "      <th></th>\n",
       "      <th>age</th>\n",
       "    </tr>\n",
       "  </thead>\n",
       "  <tbody>\n",
       "    <tr>\n",
       "      <th>count</th>\n",
       "      <td>3000.000000</td>\n",
       "    </tr>\n",
       "    <tr>\n",
       "      <th>mean</th>\n",
       "      <td>38.581667</td>\n",
       "    </tr>\n",
       "    <tr>\n",
       "      <th>std</th>\n",
       "      <td>12.081445</td>\n",
       "    </tr>\n",
       "    <tr>\n",
       "      <th>min</th>\n",
       "      <td>18.000000</td>\n",
       "    </tr>\n",
       "    <tr>\n",
       "      <th>25%</th>\n",
       "      <td>28.000000</td>\n",
       "    </tr>\n",
       "    <tr>\n",
       "      <th>50%</th>\n",
       "      <td>39.000000</td>\n",
       "    </tr>\n",
       "    <tr>\n",
       "      <th>75%</th>\n",
       "      <td>49.000000</td>\n",
       "    </tr>\n",
       "    <tr>\n",
       "      <th>max</th>\n",
       "      <td>59.000000</td>\n",
       "    </tr>\n",
       "  </tbody>\n",
       "</table>\n",
       "</div>"
      ],
      "text/plain": [
       "               age\n",
       "count  3000.000000\n",
       "mean     38.581667\n",
       "std      12.081445\n",
       "min      18.000000\n",
       "25%      28.000000\n",
       "50%      39.000000\n",
       "75%      49.000000\n",
       "max      59.000000"
      ]
     },
     "execution_count": 27,
     "metadata": {},
     "output_type": "execute_result"
    }
   ],
   "source": [
    "user.describe()"
   ]
  },
  {
   "cell_type": "code",
   "execution_count": 28,
   "id": "3ee1518c-2365-4289-a210-0e1524bf1f28",
   "metadata": {},
   "outputs": [
    {
     "data": {
      "text/plain": [
       "Index(['user_id', 'signup_date', 'gender', 'age', 'region'], dtype='object')"
      ]
     },
     "execution_count": 28,
     "metadata": {},
     "output_type": "execute_result"
    }
   ],
   "source": [
    "user.columns"
   ]
  },
  {
   "cell_type": "code",
   "execution_count": 29,
   "id": "000bc15f-6b9c-4a11-9b68-33eee1341537",
   "metadata": {},
   "outputs": [
    {
     "data": {
      "text/plain": [
       "array(['Female', 'Male'], dtype=object)"
      ]
     },
     "execution_count": 29,
     "metadata": {},
     "output_type": "execute_result"
    }
   ],
   "source": [
    "user.gender.unique()"
   ]
  },
  {
   "cell_type": "code",
   "execution_count": 30,
   "id": "acfe8291-3c5c-483e-8c53-9bb382830745",
   "metadata": {},
   "outputs": [
    {
     "data": {
      "text/plain": [
       "array(['Greater Accra', 'Volta', 'Ashanti', 'Western', 'Eastern'],\n",
       "      dtype=object)"
      ]
     },
     "execution_count": 30,
     "metadata": {},
     "output_type": "execute_result"
    }
   ],
   "source": [
    "user.region.unique()"
   ]
  },
  {
   "cell_type": "code",
   "execution_count": null,
   "id": "28f7d40d-41d3-4b53-a826-e9c9069a02ab",
   "metadata": {},
   "outputs": [],
   "source": []
  },
  {
   "cell_type": "code",
   "execution_count": 31,
   "id": "51afdffe-7ae0-48a0-932f-60810aaf2f8d",
   "metadata": {},
   "outputs": [],
   "source": [
    "user.region = user.region.replace({'Greater Accra': 'Greater_Accra'})"
   ]
  },
  {
   "cell_type": "code",
   "execution_count": 32,
   "id": "2408046e-cd0d-4754-9cb8-afdb6a243c1f",
   "metadata": {},
   "outputs": [],
   "source": [
    "user['signup_date'] = pd.to_datetime(user['signup_date'])"
   ]
  },
  {
   "cell_type": "code",
   "execution_count": 33,
   "id": "3119efeb-3ce5-4557-900a-2ccf447e52f6",
   "metadata": {},
   "outputs": [
    {
     "data": {
      "text/html": [
       "<div>\n",
       "<style scoped>\n",
       "    .dataframe tbody tr th:only-of-type {\n",
       "        vertical-align: middle;\n",
       "    }\n",
       "\n",
       "    .dataframe tbody tr th {\n",
       "        vertical-align: top;\n",
       "    }\n",
       "\n",
       "    .dataframe thead th {\n",
       "        text-align: right;\n",
       "    }\n",
       "</style>\n",
       "<table border=\"1\" class=\"dataframe\">\n",
       "  <thead>\n",
       "    <tr style=\"text-align: right;\">\n",
       "      <th></th>\n",
       "      <th>user_id</th>\n",
       "      <th>signup_date</th>\n",
       "      <th>gender</th>\n",
       "      <th>age</th>\n",
       "      <th>region</th>\n",
       "    </tr>\n",
       "  </thead>\n",
       "  <tbody>\n",
       "    <tr>\n",
       "      <th>0</th>\n",
       "      <td>U100000</td>\n",
       "      <td>2024-10-23</td>\n",
       "      <td>Female</td>\n",
       "      <td>59</td>\n",
       "      <td>Greater_Accra</td>\n",
       "    </tr>\n",
       "    <tr>\n",
       "      <th>1</th>\n",
       "      <td>U100001</td>\n",
       "      <td>2024-10-20</td>\n",
       "      <td>Female</td>\n",
       "      <td>51</td>\n",
       "      <td>Volta</td>\n",
       "    </tr>\n",
       "    <tr>\n",
       "      <th>2</th>\n",
       "      <td>U100002</td>\n",
       "      <td>2025-06-26</td>\n",
       "      <td>Female</td>\n",
       "      <td>47</td>\n",
       "      <td>Volta</td>\n",
       "    </tr>\n",
       "    <tr>\n",
       "      <th>3</th>\n",
       "      <td>U100003</td>\n",
       "      <td>2024-11-28</td>\n",
       "      <td>Female</td>\n",
       "      <td>30</td>\n",
       "      <td>Ashanti</td>\n",
       "    </tr>\n",
       "    <tr>\n",
       "      <th>4</th>\n",
       "      <td>U100004</td>\n",
       "      <td>2024-08-06</td>\n",
       "      <td>Male</td>\n",
       "      <td>30</td>\n",
       "      <td>Ashanti</td>\n",
       "    </tr>\n",
       "  </tbody>\n",
       "</table>\n",
       "</div>"
      ],
      "text/plain": [
       "   user_id signup_date  gender  age         region\n",
       "0  U100000  2024-10-23  Female   59  Greater_Accra\n",
       "1  U100001  2024-10-20  Female   51          Volta\n",
       "2  U100002  2025-06-26  Female   47          Volta\n",
       "3  U100003  2024-11-28  Female   30        Ashanti\n",
       "4  U100004  2024-08-06    Male   30        Ashanti"
      ]
     },
     "execution_count": 33,
     "metadata": {},
     "output_type": "execute_result"
    }
   ],
   "source": [
    "user.head(5)"
   ]
  },
  {
   "cell_type": "code",
   "execution_count": 34,
   "id": "c69ad420-298c-4d56-87d5-d985e993d7f1",
   "metadata": {},
   "outputs": [
    {
     "data": {
      "text/plain": [
       "region\n",
       "Ashanti          669\n",
       "Greater_Accra    605\n",
       "Volta            587\n",
       "Eastern          585\n",
       "Western          554\n",
       "Name: user_id, dtype: int64"
      ]
     },
     "execution_count": 34,
     "metadata": {},
     "output_type": "execute_result"
    }
   ],
   "source": [
    "user.groupby('region')['user_id'].count().sort_values(ascending = False)"
   ]
  },
  {
   "cell_type": "code",
   "execution_count": 35,
   "id": "54cc5334-f525-45a7-8ff2-3e6501fe3916",
   "metadata": {},
   "outputs": [
    {
     "data": {
      "text/plain": [
       "gender\n",
       "Female    1506\n",
       "Male      1494\n",
       "Name: user_id, dtype: int64"
      ]
     },
     "execution_count": 35,
     "metadata": {},
     "output_type": "execute_result"
    }
   ],
   "source": [
    "user.groupby('gender')['user_id'].count().sort_values(ascending = False)"
   ]
  },
  {
   "cell_type": "code",
   "execution_count": 36,
   "id": "907305d3-4159-420f-be8d-fcd826f043e7",
   "metadata": {},
   "outputs": [
    {
     "data": {
      "text/plain": [
       "user_id\n",
       "U100000    59.0\n",
       "U100770    59.0\n",
       "U101927    59.0\n",
       "U100137    59.0\n",
       "U100329    59.0\n",
       "           ... \n",
       "U100508    18.0\n",
       "U102508    18.0\n",
       "U100813    18.0\n",
       "U100484    18.0\n",
       "U102884    18.0\n",
       "Name: age, Length: 3000, dtype: float64"
      ]
     },
     "execution_count": 36,
     "metadata": {},
     "output_type": "execute_result"
    }
   ],
   "source": [
    "user.groupby('user_id')['age'].mean().sort_values(ascending = False)"
   ]
  },
  {
   "cell_type": "code",
   "execution_count": 37,
   "id": "7297a78d-79a7-4aa8-a733-a6f23096dfd8",
   "metadata": {},
   "outputs": [
    {
     "data": {
      "text/html": [
       "<div>\n",
       "<style scoped>\n",
       "    .dataframe tbody tr th:only-of-type {\n",
       "        vertical-align: middle;\n",
       "    }\n",
       "\n",
       "    .dataframe tbody tr th {\n",
       "        vertical-align: top;\n",
       "    }\n",
       "\n",
       "    .dataframe thead th {\n",
       "        text-align: right;\n",
       "    }\n",
       "</style>\n",
       "<table border=\"1\" class=\"dataframe\">\n",
       "  <thead>\n",
       "    <tr style=\"text-align: right;\">\n",
       "      <th></th>\n",
       "      <th>user_id</th>\n",
       "      <th>signup_date</th>\n",
       "      <th>gender</th>\n",
       "      <th>age</th>\n",
       "      <th>region</th>\n",
       "    </tr>\n",
       "  </thead>\n",
       "  <tbody>\n",
       "    <tr>\n",
       "      <th>0</th>\n",
       "      <td>U100000</td>\n",
       "      <td>2024-10-23</td>\n",
       "      <td>Female</td>\n",
       "      <td>59</td>\n",
       "      <td>Greater_Accra</td>\n",
       "    </tr>\n",
       "    <tr>\n",
       "      <th>1</th>\n",
       "      <td>U100001</td>\n",
       "      <td>2024-10-20</td>\n",
       "      <td>Female</td>\n",
       "      <td>51</td>\n",
       "      <td>Volta</td>\n",
       "    </tr>\n",
       "    <tr>\n",
       "      <th>2</th>\n",
       "      <td>U100002</td>\n",
       "      <td>2025-06-26</td>\n",
       "      <td>Female</td>\n",
       "      <td>47</td>\n",
       "      <td>Volta</td>\n",
       "    </tr>\n",
       "    <tr>\n",
       "      <th>3</th>\n",
       "      <td>U100003</td>\n",
       "      <td>2024-11-28</td>\n",
       "      <td>Female</td>\n",
       "      <td>30</td>\n",
       "      <td>Ashanti</td>\n",
       "    </tr>\n",
       "    <tr>\n",
       "      <th>4</th>\n",
       "      <td>U100004</td>\n",
       "      <td>2024-08-06</td>\n",
       "      <td>Male</td>\n",
       "      <td>30</td>\n",
       "      <td>Ashanti</td>\n",
       "    </tr>\n",
       "    <tr>\n",
       "      <th>...</th>\n",
       "      <td>...</td>\n",
       "      <td>...</td>\n",
       "      <td>...</td>\n",
       "      <td>...</td>\n",
       "      <td>...</td>\n",
       "    </tr>\n",
       "    <tr>\n",
       "      <th>2995</th>\n",
       "      <td>U102995</td>\n",
       "      <td>2025-05-07</td>\n",
       "      <td>Female</td>\n",
       "      <td>59</td>\n",
       "      <td>Volta</td>\n",
       "    </tr>\n",
       "    <tr>\n",
       "      <th>2996</th>\n",
       "      <td>U102996</td>\n",
       "      <td>2025-03-29</td>\n",
       "      <td>Male</td>\n",
       "      <td>29</td>\n",
       "      <td>Greater_Accra</td>\n",
       "    </tr>\n",
       "    <tr>\n",
       "      <th>2997</th>\n",
       "      <td>U102997</td>\n",
       "      <td>2024-08-21</td>\n",
       "      <td>Male</td>\n",
       "      <td>59</td>\n",
       "      <td>Greater_Accra</td>\n",
       "    </tr>\n",
       "    <tr>\n",
       "      <th>2998</th>\n",
       "      <td>U102998</td>\n",
       "      <td>2025-02-16</td>\n",
       "      <td>Female</td>\n",
       "      <td>30</td>\n",
       "      <td>Eastern</td>\n",
       "    </tr>\n",
       "    <tr>\n",
       "      <th>2999</th>\n",
       "      <td>U102999</td>\n",
       "      <td>2024-10-14</td>\n",
       "      <td>Male</td>\n",
       "      <td>28</td>\n",
       "      <td>Western</td>\n",
       "    </tr>\n",
       "  </tbody>\n",
       "</table>\n",
       "<p>3000 rows × 5 columns</p>\n",
       "</div>"
      ],
      "text/plain": [
       "      user_id signup_date  gender  age         region\n",
       "0     U100000  2024-10-23  Female   59  Greater_Accra\n",
       "1     U100001  2024-10-20  Female   51          Volta\n",
       "2     U100002  2025-06-26  Female   47          Volta\n",
       "3     U100003  2024-11-28  Female   30        Ashanti\n",
       "4     U100004  2024-08-06    Male   30        Ashanti\n",
       "...       ...         ...     ...  ...            ...\n",
       "2995  U102995  2025-05-07  Female   59          Volta\n",
       "2996  U102996  2025-03-29    Male   29  Greater_Accra\n",
       "2997  U102997  2024-08-21    Male   59  Greater_Accra\n",
       "2998  U102998  2025-02-16  Female   30        Eastern\n",
       "2999  U102999  2024-10-14    Male   28        Western\n",
       "\n",
       "[3000 rows x 5 columns]"
      ]
     },
     "execution_count": 37,
     "metadata": {},
     "output_type": "execute_result"
    }
   ],
   "source": [
    "user"
   ]
  },
  {
   "cell_type": "code",
   "execution_count": 44,
   "id": "6a7a3360-6f7e-4725-b35c-a251be1a4c72",
   "metadata": {},
   "outputs": [],
   "source": [
    "gold_user_master = user"
   ]
  },
  {
   "cell_type": "code",
   "execution_count": 45,
   "id": "dc82f082-2d7d-419c-b40d-b0742891366f",
   "metadata": {},
   "outputs": [
    {
     "data": {
      "text/html": [
       "<div>\n",
       "<style scoped>\n",
       "    .dataframe tbody tr th:only-of-type {\n",
       "        vertical-align: middle;\n",
       "    }\n",
       "\n",
       "    .dataframe tbody tr th {\n",
       "        vertical-align: top;\n",
       "    }\n",
       "\n",
       "    .dataframe thead th {\n",
       "        text-align: right;\n",
       "    }\n",
       "</style>\n",
       "<table border=\"1\" class=\"dataframe\">\n",
       "  <thead>\n",
       "    <tr style=\"text-align: right;\">\n",
       "      <th></th>\n",
       "      <th>user_id</th>\n",
       "      <th>signup_date</th>\n",
       "      <th>gender</th>\n",
       "      <th>age</th>\n",
       "      <th>region</th>\n",
       "    </tr>\n",
       "  </thead>\n",
       "  <tbody>\n",
       "    <tr>\n",
       "      <th>0</th>\n",
       "      <td>U100000</td>\n",
       "      <td>2024-10-23</td>\n",
       "      <td>Female</td>\n",
       "      <td>59</td>\n",
       "      <td>Greater_Accra</td>\n",
       "    </tr>\n",
       "    <tr>\n",
       "      <th>1</th>\n",
       "      <td>U100001</td>\n",
       "      <td>2024-10-20</td>\n",
       "      <td>Female</td>\n",
       "      <td>51</td>\n",
       "      <td>Volta</td>\n",
       "    </tr>\n",
       "    <tr>\n",
       "      <th>2</th>\n",
       "      <td>U100002</td>\n",
       "      <td>2025-06-26</td>\n",
       "      <td>Female</td>\n",
       "      <td>47</td>\n",
       "      <td>Volta</td>\n",
       "    </tr>\n",
       "    <tr>\n",
       "      <th>3</th>\n",
       "      <td>U100003</td>\n",
       "      <td>2024-11-28</td>\n",
       "      <td>Female</td>\n",
       "      <td>30</td>\n",
       "      <td>Ashanti</td>\n",
       "    </tr>\n",
       "    <tr>\n",
       "      <th>4</th>\n",
       "      <td>U100004</td>\n",
       "      <td>2024-08-06</td>\n",
       "      <td>Male</td>\n",
       "      <td>30</td>\n",
       "      <td>Ashanti</td>\n",
       "    </tr>\n",
       "    <tr>\n",
       "      <th>...</th>\n",
       "      <td>...</td>\n",
       "      <td>...</td>\n",
       "      <td>...</td>\n",
       "      <td>...</td>\n",
       "      <td>...</td>\n",
       "    </tr>\n",
       "    <tr>\n",
       "      <th>2995</th>\n",
       "      <td>U102995</td>\n",
       "      <td>2025-05-07</td>\n",
       "      <td>Female</td>\n",
       "      <td>59</td>\n",
       "      <td>Volta</td>\n",
       "    </tr>\n",
       "    <tr>\n",
       "      <th>2996</th>\n",
       "      <td>U102996</td>\n",
       "      <td>2025-03-29</td>\n",
       "      <td>Male</td>\n",
       "      <td>29</td>\n",
       "      <td>Greater_Accra</td>\n",
       "    </tr>\n",
       "    <tr>\n",
       "      <th>2997</th>\n",
       "      <td>U102997</td>\n",
       "      <td>2024-08-21</td>\n",
       "      <td>Male</td>\n",
       "      <td>59</td>\n",
       "      <td>Greater_Accra</td>\n",
       "    </tr>\n",
       "    <tr>\n",
       "      <th>2998</th>\n",
       "      <td>U102998</td>\n",
       "      <td>2025-02-16</td>\n",
       "      <td>Female</td>\n",
       "      <td>30</td>\n",
       "      <td>Eastern</td>\n",
       "    </tr>\n",
       "    <tr>\n",
       "      <th>2999</th>\n",
       "      <td>U102999</td>\n",
       "      <td>2024-10-14</td>\n",
       "      <td>Male</td>\n",
       "      <td>28</td>\n",
       "      <td>Western</td>\n",
       "    </tr>\n",
       "  </tbody>\n",
       "</table>\n",
       "<p>3000 rows × 5 columns</p>\n",
       "</div>"
      ],
      "text/plain": [
       "      user_id signup_date  gender  age         region\n",
       "0     U100000  2024-10-23  Female   59  Greater_Accra\n",
       "1     U100001  2024-10-20  Female   51          Volta\n",
       "2     U100002  2025-06-26  Female   47          Volta\n",
       "3     U100003  2024-11-28  Female   30        Ashanti\n",
       "4     U100004  2024-08-06    Male   30        Ashanti\n",
       "...       ...         ...     ...  ...            ...\n",
       "2995  U102995  2025-05-07  Female   59          Volta\n",
       "2996  U102996  2025-03-29    Male   29  Greater_Accra\n",
       "2997  U102997  2024-08-21    Male   59  Greater_Accra\n",
       "2998  U102998  2025-02-16  Female   30        Eastern\n",
       "2999  U102999  2024-10-14    Male   28        Western\n",
       "\n",
       "[3000 rows x 5 columns]"
      ]
     },
     "execution_count": 45,
     "metadata": {},
     "output_type": "execute_result"
    }
   ],
   "source": [
    "gold_user_master"
   ]
  },
  {
   "cell_type": "markdown",
   "id": "b3ba8622-6785-4792-bea1-70e2aa8c3616",
   "metadata": {},
   "source": [
    "# Saving the cleanned dataset to the filepath(gold_user_master)"
   ]
  },
  {
   "cell_type": "code",
   "execution_count": 47,
   "id": "7949b8f7-1cf1-440c-97bb-6345d70f615b",
   "metadata": {},
   "outputs": [],
   "source": [
    "\n",
    "gold_user_master.to_csv(r\"F:\\DATASET\\FINTECH CUSTOMER RETENTION\\DATASET\\gold_user_master.csv\", index=False)\n"
   ]
  },
  {
   "cell_type": "code",
   "execution_count": null,
   "id": "cc483462-c997-46d8-a2af-0cd4fc88362d",
   "metadata": {},
   "outputs": [],
   "source": []
  },
  {
   "cell_type": "code",
   "execution_count": null,
   "id": "c2809cb6-dc00-4c9c-9fe0-8f1f9816fda6",
   "metadata": {},
   "outputs": [],
   "source": []
  },
  {
   "cell_type": "code",
   "execution_count": null,
   "id": "0aa88429-dedd-4e78-80b7-bd44ef73ec52",
   "metadata": {},
   "outputs": [],
   "source": []
  },
  {
   "cell_type": "code",
   "execution_count": null,
   "id": "9bc9eb51-09b3-4722-8908-04c2a972bea4",
   "metadata": {},
   "outputs": [],
   "source": []
  }
 ],
 "metadata": {
  "kernelspec": {
   "display_name": "Python [conda env:base] *",
   "language": "python",
   "name": "conda-base-py"
  },
  "language_info": {
   "codemirror_mode": {
    "name": "ipython",
    "version": 3
   },
   "file_extension": ".py",
   "mimetype": "text/x-python",
   "name": "python",
   "nbconvert_exporter": "python",
   "pygments_lexer": "ipython3",
   "version": "3.12.4"
  }
 },
 "nbformat": 4,
 "nbformat_minor": 5
}
